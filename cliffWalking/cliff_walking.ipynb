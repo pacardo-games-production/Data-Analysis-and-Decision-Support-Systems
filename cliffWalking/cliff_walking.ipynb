{
 "cells": [
  {
   "cell_type": "code",
   "execution_count": 1,
   "metadata": {},
   "outputs": [],
   "source": [
    "import numpy as np\n",
    "import pandas as pd\n",
    "import matplotlib.pyplot as plt"
   ]
  },
  {
   "cell_type": "markdown",
   "metadata": {},
   "source": [
    "# Pt. 1 - Creating entities - table and agent"
   ]
  },
  {
   "cell_type": "code",
   "execution_count": 2,
   "metadata": {},
   "outputs": [],
   "source": [
    "class PacardoTable:\n",
    "    def __init__(self, rows, cols):\n",
    "        self.rows = rows\n",
    "        self.cols = cols\n",
    "        self.table = np.zeros((4, cols*rows))\n",
    "        self.actions =  {\n",
    "            \"UP\": self.table[0, :],\n",
    "            \"LEFT\": self.table[1, :],\n",
    "            \"RIGHT\": self.table[2, :],\n",
    "            \"DOWN\": self.table[3, :]\n",
    "        }\n",
    "        \n",
    "    def update(self, state, action, reward, next_state_value, gamma_discount = 0.9, alpha = 0.5):\n",
    "        \"\"\"\n",
    "        Обновляет таблицу, используя значения наград и следующего состояния\n",
    "        Q(S, A) <- Q(S, A) + [alpha * (reward + (gamma * maxValue(Q(S', A'))) -  Q(S, A) ],\n",
    "        Q(S, A) <- Q(S, A) + [alpha * (reward + (gamma * Q(S', A')) -  Q(S, A) ]\n",
    "        \"\"\"\n",
    "        caef = alpha * (reward + (gamma_discount * next_state_value) - self.table[action, state])\n",
    "        self.table[action, state] += caef\n",
    "        return self.table"
   ]
  },
  {
   "cell_type": "code",
   "execution_count": 3,
   "metadata": {},
   "outputs": [],
   "source": [
    "class PacardoCliffAgent:\n",
    "    \n",
    "    def __init__(self, start_position, rows=4, cols=12):\n",
    "        self.position = start_position\n",
    "        self.env = np.zeros((rows, cols))\n",
    "        self.rows = rows\n",
    "        self.cols = cols\n",
    "        self.track_env()\n",
    "        \n",
    "    def epsilon_greedy_policy(self, state, pacardoTable, epsilon = 0.1):\n",
    "        decide_explore_exploit  = np.random.random()\n",
    "        if(decide_explore_exploit < epsilon):\n",
    "            action = np.random.choice(4)\n",
    "        else:\n",
    "            action = np.argmax(pacardoTable.table[:, state])\n",
    "        return action\n",
    "    \n",
    "    def move(self, action):\n",
    "        \n",
    "        (posX , posY) = self.position\n",
    "        if ((action == 0) and posX > 0):\n",
    "            posX = posX - 1\n",
    "        if((action == 1) and (posY > 0)):\n",
    "            posY = posY - 1\n",
    "        if((action == 2) and (posY < 11)):\n",
    "            posY = posY + 1\n",
    "        if((action) == 3 and (posX < 3)):\n",
    "            posX = posX + 1\n",
    "        self.position = (posX, posY)\n",
    "        self.track_env()\n",
    "        return self.position\n",
    "    \n",
    "    def reward(self, state):\n",
    "        game_end = False\n",
    "        reward = -1\n",
    "        if(state == 47):\n",
    "            game_end = True\n",
    "            reward = -1\n",
    "        if(state >= 37 and state <= 46):\n",
    "            game_end = True\n",
    "            reward = -100\n",
    "\n",
    "        return reward, game_end\n",
    "    \n",
    "    def track_env(self):\n",
    "        (posY, posX) = self.position\n",
    "        self.env[posY][posX] = 1"
   ]
  },
  {
   "cell_type": "markdown",
   "metadata": {},
   "source": [
    "# Pt 2. Creating solvers - SARSA and Q-Learning"
   ]
  },
  {
   "cell_type": "code",
   "execution_count": 4,
   "metadata": {},
   "outputs": [],
   "source": [
    "class IPacardoSolver():\n",
    "    def fit():\n",
    "        pass\n",
    "    def get_state():\n",
    "        pass\n",
    "        "
   ]
  },
  {
   "cell_type": "code",
   "execution_count": 5,
   "metadata": {},
   "outputs": [],
   "source": [
    "class SarsaLearningPacardoSolver(IPacardoSolver):\n",
    "    def __init__(\n",
    "        self, \n",
    "        num_episodes = 500,\n",
    "        gamma_discount = 0.9,\n",
    "        alpha = 0.5,\n",
    "        epsilon = 0.1\n",
    "    ):\n",
    "        self.num_episodes = num_episodes\n",
    "        self.gamma_discount = gamma_discount\n",
    "        self.alpha = alpha\n",
    "        self.epsilon = epsilon\n",
    "        \n",
    "    def fit(self):\n",
    "        reward_cache = list()\n",
    "        step_cache = list()\n",
    "        table = PacardoTable(4, 12)\n",
    "        for episode in range(0, self.num_episodes):\n",
    "            agent = PacardoCliffAgent((3, 0))\n",
    "            game_end = False\n",
    "            reward_cum = 0\n",
    "            step_cum = 0\n",
    "            while(game_end == False):\n",
    "                step_cum += 1\n",
    "                state = self.get_state(agent, table)\n",
    "                action = agent.epsilon_greedy_policy(state, table)\n",
    "                agent.move(action)\n",
    "                next_state = self.get_state(agent, table)\n",
    "                next_state_value = table.table[action][next_state]\n",
    "                reward, game_end = agent.reward(next_state)\n",
    "                reward_cum += reward \n",
    "                table.update(state, action, reward, next_state_value, self.gamma_discount, self.alpha)\n",
    "                state = next_state\n",
    "            reward_cache.append(reward_cum)\n",
    "            if(episode > 498):\n",
    "                print(\"Agent trained with SARSA-learning after 500 iterations\")\n",
    "                print(agent.env) \n",
    "            step_cache.append(step_cum)\n",
    "        return table, reward_cache, step_cache\n",
    "    \n",
    "    def get_state(self, pacardoAgent, pacardoTable):\n",
    "        (posX , posY) = pacardoAgent.position\n",
    "        return pacardoAgent.cols * posX + posY"
   ]
  },
  {
   "cell_type": "code",
   "execution_count": 6,
   "metadata": {},
   "outputs": [],
   "source": [
    "class QLearningPacardoSolver(IPacardoSolver):\n",
    "    def __init__(\n",
    "        self, \n",
    "        num_episodes = 500,\n",
    "        gamma_discount = 0.9,\n",
    "        alpha = 0.5,\n",
    "        epsilon = 0.1\n",
    "    ):\n",
    "        self.num_episodes = num_episodes\n",
    "        self.gamma_discount = gamma_discount\n",
    "        self.alpha = alpha\n",
    "        self.epsilon = epsilon\n",
    "    \n",
    "    def fit(self):\n",
    "        reward_cache = list()\n",
    "        step_cache = list()\n",
    "        table = PacardoTable(4, 12)\n",
    "        for episode in range(0, self.num_episodes):\n",
    "            agent = PacardoCliffAgent((3, 0))\n",
    "            game_end = False\n",
    "            reward_cum = 0\n",
    "            step_cum = 0\n",
    "            while(game_end == False):\n",
    "                step_cum += 1\n",
    "                state, _ = self.get_state(agent, table)\n",
    "                action = agent.epsilon_greedy_policy(state, table)\n",
    "                agent.move(action)\n",
    "                next_state, max_next_state_value = self.get_state(agent, table)\n",
    "                reward, game_end = agent.reward(next_state)\n",
    "                reward_cum += reward \n",
    "                table.update(state, action, reward, max_next_state_value, self.gamma_discount, self.alpha)\n",
    "                state = next_state\n",
    "            reward_cache.append(reward_cum)\n",
    "            if(episode > 498):\n",
    "                print(\"Agent trained with Q-learning after 500 iterations\")\n",
    "                print(agent.env) \n",
    "            step_cache.append(step_cum)\n",
    "        return table, reward_cache, step_cache\n",
    "\n",
    "    def get_state(self, pacardoAgent, pacardoTable):\n",
    "        (posX , posY) = pacardoAgent.position\n",
    "\n",
    "        state = pacardoAgent.cols * posX + posY\n",
    "\n",
    "        state_action = pacardoTable.table[:, int(state)]\n",
    "        maximum_state_value = np.amax(state_action)\n",
    "        return state, maximum_state_value"
   ]
  },
  {
   "cell_type": "markdown",
   "metadata": {},
   "source": [
    "# pt. 3 Plotting Functions"
   ]
  },
  {
   "cell_type": "code",
   "execution_count": 7,
   "metadata": {},
   "outputs": [],
   "source": [
    "def retrieve_environment(q_table, action):\n",
    "    env = q_table[action, :].reshape((4, 12))\n",
    "    print(env)\n",
    "  "
   ]
  },
  {
   "cell_type": "code",
   "execution_count": 8,
   "metadata": {},
   "outputs": [],
   "source": [
    "def plot_cumreward_normalized(reward_cache_qlearning, reward_cache_SARSA):\n",
    "    cum_rewards_q = []\n",
    "    rewards_mean = np.array(reward_cache_qlearning).mean()\n",
    "    rewards_std = np.array(reward_cache_qlearning).std()\n",
    "    count = 0 # used to determine the batches\n",
    "    cur_reward = 0 # accumulate reward for the batch\n",
    "    for cache in reward_cache_qlearning:\n",
    "        count = count + 1\n",
    "        cur_reward += cache\n",
    "        if(count == 10):\n",
    "            # normalize the sample\n",
    "            normalized_reward = (cur_reward - rewards_mean)/rewards_std\n",
    "            cum_rewards_q.append(normalized_reward)\n",
    "            cur_reward = 0\n",
    "            count = 0\n",
    "            \n",
    "    cum_rewards_SARSA = []\n",
    "    rewards_mean = np.array(reward_cache_SARSA).mean()\n",
    "    rewards_std = np.array(reward_cache_SARSA).std()\n",
    "    count = 0 # used to determine the batches\n",
    "    cur_reward = 0 # accumulate reward for the batch\n",
    "    for cache in reward_cache_SARSA:\n",
    "        count = count + 1\n",
    "        cur_reward += cache\n",
    "        if(count == 10):\n",
    "            # normalize the sample\n",
    "            normalized_reward = (cur_reward - rewards_mean)/rewards_std\n",
    "            cum_rewards_SARSA.append(normalized_reward)\n",
    "            cur_reward = 0\n",
    "            count = 0      \n",
    "    # prepare the graph    \n",
    "    plt.plot(cum_rewards_q, label = \"q_learning\")\n",
    "    plt.plot(cum_rewards_SARSA, label = \"SARSA\")\n",
    "    plt.ylabel('Cumulative Rewards')\n",
    "    plt.xlabel('Batches of Episodes (sample size 10) ')\n",
    "    plt.title(\"Q-Learning/SARSA Convergence of Cumulative Reward\")\n",
    "    plt.legend(loc='lower right', ncol=2, mode=\"expand\", borderaxespad=0.)\n",
    "    plt.show()\n",
    "    "
   ]
  },
  {
   "cell_type": "code",
   "execution_count": 9,
   "metadata": {},
   "outputs": [],
   "source": [
    "def plot_number_steps(step_cache_qlearning, step_cache_SARSA): \n",
    "    cum_step_q = []\n",
    "    steps_mean = np.array(step_cache_qlearning).mean()\n",
    "    steps_std = np.array(step_cache_qlearning).std()\n",
    "    count = 0\n",
    "    cur_step = 0\n",
    "    for cache in step_cache_qlearning:\n",
    "        count = count + 1\n",
    "        cur_step += cache\n",
    "        if(count == 10):\n",
    "            normalized_step = (cur_step - steps_mean)/steps_std\n",
    "            cum_step_q.append(normalized_step)\n",
    "            cur_step = 0\n",
    "            count = 0\n",
    "            \n",
    "    cum_step_SARSA = []\n",
    "    steps_mean = np.array(step_cache_SARSA).mean()\n",
    "    steps_std = np.array(step_cache_SARSA).std()\n",
    "    count = 0\n",
    "    cur_step = 0\n",
    "    for cache in step_cache_SARSA:\n",
    "        count = count + 1\n",
    "        cur_step += cache\n",
    "        if(count == 10):\n",
    "            normalized_step = (cur_step - steps_mean)/steps_std\n",
    "            cum_step_SARSA.append(normalized_step)\n",
    "            cur_step = 0\n",
    "            count = 0         \n",
    "    plt.plot(cum_step_q, label = \"q_learning\")\n",
    "    plt.plot(cum_step_SARSA, label = \"SARSA\")\n",
    "    plt.ylabel('Number of iterations')\n",
    "    plt.xlabel('Batches of Episodes (sample size 10) ')\n",
    "    plt.title(\"Q-Learning/SARSA Iteration number untill game ends\")\n",
    "    plt.legend(loc='lower right', ncol=2, mode=\"expand\", borderaxespad=0.)\n",
    "    plt.show()\n",
    "    \n",
    "\n",
    "    "
   ]
  },
  {
   "cell_type": "code",
   "execution_count": 10,
   "metadata": {},
   "outputs": [],
   "source": [
    "def plot_qlearning_smooth(reward_cache):\n",
    "    mean_rev = (np.array(reward_cache[0:11]).sum())/10\n",
    "    cum_rewards = [mean_rev] * 10\n",
    "    idx = 0\n",
    "    for cache in reward_cache:\n",
    "        cum_rewards[idx] = cache\n",
    "        idx += 1\n",
    "        smooth_reward = (np.array(cum_rewards).mean())\n",
    "        cum_rewards.append(smooth_reward)\n",
    "        if(idx == 10):\n",
    "            idx = 0\n",
    "        \n",
    "    plt.plot(cum_rewards)\n",
    "    plt.ylabel('Cumulative Rewards')\n",
    "    plt.xlabel('Batches of Episodes (sample size 10) ')\n",
    "    plt.title(\"Q-Learning  Convergence of Cumulative Reward\")\n",
    "    plt.legend(loc='lower left', ncol=2, mode=\"expand\", borderaxespad=0.)\n",
    "    plt.show()"
   ]
  },
  {
   "cell_type": "code",
   "execution_count": 11,
   "metadata": {},
   "outputs": [],
   "source": [
    "def generate_heatmap(q_table):\n",
    "    import seaborn as sns; sns.set()\n",
    "    data = np.mean(q_table, axis = 0)\n",
    "    print(data)\n",
    "    data = data.reshape((4, 12))\n",
    "    ax = sns.heatmap(np.array(data))\n",
    "    return ax"
   ]
  },
  {
   "cell_type": "markdown",
   "metadata": {},
   "source": [
    "# Pt 4.  - Models training"
   ]
  },
  {
   "cell_type": "code",
   "execution_count": 12,
   "metadata": {},
   "outputs": [
    {
     "name": "stdout",
     "output_type": "stream",
     "text": [
      "Agent trained with SARSA-learning after 500 iterations\n",
      "[[0. 0. 0. 0. 0. 0. 0. 0. 0. 1. 1. 1.]\n",
      " [0. 0. 0. 0. 0. 0. 0. 0. 1. 1. 0. 1.]\n",
      " [1. 1. 1. 1. 1. 1. 1. 1. 1. 0. 0. 1.]\n",
      " [1. 0. 0. 0. 0. 0. 0. 0. 0. 0. 0. 1.]]\n",
      "Agent trained with Q-learning after 500 iterations\n",
      "[[0. 0. 0. 0. 0. 0. 0. 0. 0. 0. 0. 0.]\n",
      " [0. 0. 0. 0. 0. 0. 0. 0. 0. 0. 0. 0.]\n",
      " [1. 1. 1. 1. 1. 1. 1. 1. 1. 1. 1. 1.]\n",
      " [1. 0. 0. 0. 0. 0. 0. 0. 0. 0. 0. 1.]]\n"
     ]
    }
   ],
   "source": [
    "q_table_SARSA, reward_cache_SARSA, step_cache_SARSA = SarsaLearningPacardoSolver().fit()\n",
    "q_table_qlearning, reward_cache_qlearning, step_cache_qlearning = QLearningPacardoSolver().fit()\n",
    "    "
   ]
  },
  {
   "cell_type": "code",
   "execution_count": 13,
   "metadata": {},
   "outputs": [
    {
     "data": {
      "image/png": "[encoded data removed]",
      "text/plain": [
       "<Figure size 432x288 with 1 Axes>"
      ]
     },
     "metadata": {
      "needs_background": "light"
     },
     "output_type": "display_data"
    },
    {
     "data": {
      "image/png": "[encoded data removed]",
      "text/plain": [
       "<Figure size 432x288 with 1 Axes>"
      ]
     },
     "metadata": {
      "needs_background": "light"
     },
     "output_type": "display_data"
    }
   ],
   "source": [
    "plot_number_steps(step_cache_qlearning, step_cache_SARSA)\n",
    "plot_cumreward_normalized(reward_cache_qlearning,reward_cache_SARSA)"
   ]
  },
  {
   "cell_type": "code",
   "execution_count": 14,
   "metadata": {},
   "outputs": [
    {
     "name": "stdout",
     "output_type": "stream",
     "text": [
      "Visualize environment Q-learning\n"
     ]
    },
    {
     "name": "stderr",
     "output_type": "stream",
     "text": [
      "/Users/astronaut/opt/anaconda3/lib/python3.7/site-packages/statsmodels/tools/_testing.py:19: FutureWarning: pandas.util.testing is deprecated. Use the functions in the public API at pandas.testing instead.\n",
      "  import pandas.util.testing as tm\n"
     ]
    },
    {
     "name": "stdout",
     "output_type": "stream",
     "text": [
      "[ -7.34723206  -7.17031144  -6.91218898  -6.64095367  -6.34855637\n",
      "  -5.94961336  -5.57770196  -5.10797852  -4.70909987  -4.30423206\n",
      "  -3.63221434  -2.85373812  -7.4378276   -7.25622699  -6.95297672\n",
      "  -6.70391696  -6.21597204  -5.79755645  -5.30383328  -4.8826156\n",
      "  -4.40735725  -3.91077482  -3.07883496  -2.5262664   -7.49281661\n",
      " -30.43790448 -30.20408287 -29.91118578 -29.66270093 -29.34155149\n",
      " -29.00848255 -28.62610607 -28.19886624 -27.71654845 -26.78182855\n",
      "  -2.07517538 -30.71784822   0.           0.           0.\n",
      "   0.           0.           0.           0.           0.\n",
      "   0.           0.           0.        ]\n",
      "AxesSubplot(0.125,0.125;0.62x0.755)\n"
     ]
    },
    {
     "data": {
      "image/png": "[encoded data removed]",
      "text/plain": [
       "<Figure size 432x288 with 2 Axes>"
      ]
     },
     "metadata": {},
     "output_type": "display_data"
    }
   ],
   "source": [
    "print(\"Visualize environment Q-learning\")\n",
    "ax_q = generate_heatmap(q_table_qlearning.table)\n",
    "print(ax_q) "
   ]
  },
  {
   "cell_type": "code",
   "execution_count": 15,
   "metadata": {},
   "outputs": [
    {
     "name": "stdout",
     "output_type": "stream",
     "text": [
      "Visualize SARSA\n",
      "[ -8.02513824 -14.43103401 -20.73667284 -18.05744346 -14.62735437\n",
      " -16.64379794 -10.93393644 -16.78181338 -23.76887507 -22.09431582\n",
      " -20.21927411  -3.85035926  -8.20437685 -25.90195954 -26.78240583\n",
      " -23.49302544 -19.83200821 -27.6213813  -24.60681793 -18.43061864\n",
      " -26.77783069 -24.5574625  -22.29981424  -4.26315402  -8.5596702\n",
      " -31.28933541 -31.16691923 -30.88268233 -30.84567863 -30.57704447\n",
      " -30.27525297 -30.17452359 -29.53220902 -29.23534084 -27.73855469\n",
      "  -4.26869597 -31.54552876   0.           0.           0.\n",
      "   0.           0.           0.           0.           0.\n",
      "   0.           0.           0.        ]\n",
      "AxesSubplot(0.125,0.125;0.62x0.755)\n"
     ]
    },
    {
     "data": {
      "image/png": "[encoded data removed]",
      "text/plain": [
       "<Figure size 432x288 with 2 Axes>"
      ]
     },
     "metadata": {},
     "output_type": "display_data"
    }
   ],
   "source": [
    "print(\"Visualize SARSA\")\n",
    "ax_SARSA = generate_heatmap(q_table_SARSA.table)\n",
    "print(ax_SARSA)"
   ]
  }
 ],
 "metadata": {
  "kernelspec": {
   "display_name": "Python 3",
   "language": "python",
   "name": "python3"
  },
  "language_info": {
   "codemirror_mode": {
    "name": "ipython",
    "version": 3
   },
   "file_extension": ".py",
   "mimetype": "text/x-python",
   "name": "python",
   "nbconvert_exporter": "python",
   "pygments_lexer": "ipython3",
   "version": "3.7.4"
  }
 },
 "nbformat": 4,
 "nbformat_minor": 2
}
