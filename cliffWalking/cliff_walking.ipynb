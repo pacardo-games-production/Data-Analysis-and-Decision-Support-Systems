{
 "cells": [
  {
   "cell_type": "code",
   "execution_count": 1,
   "metadata": {},
   "outputs": [],
   "source": [
    "import numpy as np\n",
    "import pandas as pd\n",
    "import matplotlib.pyplot as plt"
   ]
  },
  {
   "cell_type": "markdown",
   "metadata": {},
   "source": [
    "# Pt. 1 - Creating entities - table and agent"
   ]
  },
  {
   "cell_type": "code",
   "execution_count": 2,
   "metadata": {},
   "outputs": [],
   "source": [
    "class PacardoTable:\n",
    "    def __init__(self, rows, cols):\n",
    "        self.rows = rows\n",
    "        self.cols = cols\n",
    "        self.table = np.zeros((4, cols*rows))\n",
    "        self.actions =  {\n",
    "            \"UP\": self.table[0, :],\n",
    "            \"LEFT\": self.table[1, :],\n",
    "            \"RIGHT\": self.table[2, :],\n",
    "            \"DOWN\": self.table[3, :]\n",
    "        }\n",
    "        \n",
    "    def update(self, state, action, reward, next_state_value, gamma_discount = 0.9, alpha = 0.5):\n",
    "        \"\"\"\n",
    "        Обновляет таблицу, используя значения наград и следующего состояния\n",
    "        Q(S, A) <- Q(S, A) + [alpha * (reward + (gamma * maxValue(Q(S', A'))) -  Q(S, A) ],\n",
    "        Q(S, A) <- Q(S, A) + [alpha * (reward + (gamma * Q(S', A')) -  Q(S, A) ]\n",
    "        \"\"\"\n",
    "        caef = alpha * (reward + (gamma_discount * next_state_value) - self.table[action, state])\n",
    "        self.table[action, state] += caef\n",
    "        return self.table"
   ]
  },
  {
   "cell_type": "code",
   "execution_count": 3,
   "metadata": {},
   "outputs": [],
   "source": [
    "class PacardoCliffAgent:\n",
    "    \n",
    "    def __init__(self, start_position, rows=4, cols=12):\n",
    "        self.position = start_position\n",
    "        self.env = np.zeros((rows, cols))\n",
    "        self.rows = rows\n",
    "        self.cols = cols\n",
    "        self.track_env()\n",
    "        \n",
    "    def epsilon_greedy_policy(self, state, pacardoTable, epsilon = 0.1):\n",
    "        \"\"\"\n",
    "        Epsilon greedy policy implementation takes the current state and q_value table \n",
    "        Determines which action to take based on the epsilon-greedy policy\n",
    "\n",
    "        Args:\n",
    "            epsilon -- type(float) Determines exploration/explotion ratio\n",
    "            state -- type(int) Current state of the agent value between [0:47]\n",
    "            q_table -- type(np.array) Determines state value\n",
    "\n",
    "        Returns:\n",
    "            action -- type(int) Choosen function based on Q(s, a) pairs & epsilon\n",
    "        \"\"\"\n",
    "        # choose a random int from an uniform distribution [0.0, 1.0) \n",
    "        decide_explore_exploit  = np.random.random()\n",
    "\n",
    "        if(decide_explore_exploit < epsilon):\n",
    "            action = np.random.choice(4) # UP = 0, LEFT = 1, RIGHT = 2, DOWN = 3\n",
    "        else:\n",
    "            action = np.argmax(pacardoTable.table[:, state]) # Choose the action with largest Q-value (state value)\n",
    "\n",
    "        return action\n",
    "    \n",
    "    def move(self, action):\n",
    "        \n",
    "        (posX , posY) = self.position\n",
    "        if ((action == 0) and posX > 0):\n",
    "            posX = posX - 1\n",
    "        if((action == 1) and (posY > 0)):\n",
    "            posY = posY - 1\n",
    "        if((action == 2) and (posY < 11)):\n",
    "            posY = posY + 1\n",
    "        if((action) == 3 and (posX < 3)):\n",
    "            posX = posX + 1\n",
    "        self.position = (posX, posY)\n",
    "        self.track_env()\n",
    "        return self.position\n",
    "    \n",
    "    def reward(self, state):\n",
    "        game_end = False\n",
    "        reward = -1\n",
    "        if(state == 47):\n",
    "            game_end = True\n",
    "            reward = -1\n",
    "        if(state >= 37 and state <= 46):\n",
    "            game_end = True\n",
    "            reward = -100\n",
    "\n",
    "        return reward, game_end\n",
    "    \n",
    "    def track_env(self):\n",
    "        (posY, posX) = self.position\n",
    "        self.env[posY][posX] = 1"
   ]
  },
  {
   "cell_type": "markdown",
   "metadata": {},
   "source": [
    "# Pt 2. Creating solvers - SARSA and Q-Learning"
   ]
  },
  {
   "cell_type": "code",
   "execution_count": 4,
   "metadata": {},
   "outputs": [],
   "source": [
    "class IPacardoSolver():\n",
    "    def fit():\n",
    "        pass\n",
    "    def get_state():\n",
    "        pass\n",
    "        "
   ]
  },
  {
   "cell_type": "code",
   "execution_count": 5,
   "metadata": {},
   "outputs": [],
   "source": [
    "class SarsaLearningPacardoSolver(IPacardoSolver):\n",
    "    def __init__(\n",
    "        self, \n",
    "        num_episodes = 500,\n",
    "        gamma_discount = 0.9,\n",
    "        alpha = 0.5,\n",
    "        epsilon = 0.1\n",
    "    ):\n",
    "        self.num_episodes = num_episodes\n",
    "        self.gamma_discount = gamma_discount\n",
    "        self.alpha = alpha\n",
    "        self.epsilon = epsilon\n",
    "        \n",
    "    def fit(self):\n",
    "        reward_cache = list()\n",
    "        step_cache = list()\n",
    "        table = PacardoTable(4, 12)\n",
    "        for episode in range(0, self.num_episodes):\n",
    "            agent = PacardoCliffAgent((3, 0))\n",
    "            game_end = False\n",
    "            reward_cum = 0\n",
    "            step_cum = 0\n",
    "            while(game_end == False):\n",
    "                step_cum += 1\n",
    "                state = self.get_state(agent, table)\n",
    "                action = agent.epsilon_greedy_policy(state, table)\n",
    "                agent.move(action)\n",
    "                next_state = self.get_state(agent, table)\n",
    "                next_state_value = table.table[action][next_state]\n",
    "                reward, game_end = agent.reward(next_state)\n",
    "                reward_cum += reward \n",
    "                table.update(state, action, reward, next_state_value, self.gamma_discount, self.alpha)\n",
    "                state = next_state\n",
    "            reward_cache.append(reward_cum)\n",
    "            if(episode > 498):\n",
    "                print(\"Agent trained with SARSA-learning after 500 iterations\")\n",
    "                print(agent.env) \n",
    "            step_cache.append(step_cum)\n",
    "        return table, reward_cache, step_cache\n",
    "    \n",
    "    def get_state(self, pacardoAgent, pacardoTable):\n",
    "        (posX , posY) = pacardoAgent.position\n",
    "        return pacardoAgent.cols * posX + posY"
   ]
  },
  {
   "cell_type": "code",
   "execution_count": 6,
   "metadata": {},
   "outputs": [],
   "source": [
    "class QLearningPacardoSolver(IPacardoSolver):\n",
    "    def __init__(\n",
    "        self, \n",
    "        num_episodes = 500,\n",
    "        gamma_discount = 0.9,\n",
    "        alpha = 0.5,\n",
    "        epsilon = 0.1\n",
    "    ):\n",
    "        self.num_episodes = num_episodes\n",
    "        self.gamma_discount = gamma_discount\n",
    "        self.alpha = alpha\n",
    "        self.epsilon = epsilon\n",
    "    \n",
    "    def fit(self):\n",
    "        reward_cache = list()\n",
    "        step_cache = list()\n",
    "        table = PacardoTable(4, 12)\n",
    "        for episode in range(0, self.num_episodes):\n",
    "            agent = PacardoCliffAgent((3, 0))\n",
    "            game_end = False\n",
    "            reward_cum = 0\n",
    "            step_cum = 0\n",
    "            while(game_end == False):\n",
    "                step_cum += 1\n",
    "                state, _ = self.get_state(agent, table)\n",
    "                action = agent.epsilon_greedy_policy(state, table)\n",
    "                agent.move(action)\n",
    "                next_state, max_next_state_value = self.get_state(agent, table)\n",
    "                reward, game_end = agent.reward(next_state)\n",
    "                reward_cum += reward \n",
    "                table.update(state, action, reward, max_next_state_value, self.gamma_discount, self.alpha)\n",
    "                state = next_state\n",
    "            reward_cache.append(reward_cum)\n",
    "            if(episode > 498):\n",
    "                print(\"Agent trained with Q-learning after 500 iterations\")\n",
    "                print(agent.env) \n",
    "            step_cache.append(step_cum)\n",
    "        return table, reward_cache, step_cache\n",
    "\n",
    "    def get_state(self, pacardoAgent, pacardoTable):\n",
    "        (posX , posY) = pacardoAgent.position\n",
    "\n",
    "        state = pacardoAgent.cols * posX + posY\n",
    "\n",
    "        state_action = pacardoTable.table[:, int(state)]\n",
    "        maximum_state_value = np.amax(state_action)\n",
    "        return state, maximum_state_value"
   ]
  },
  {
   "cell_type": "markdown",
   "metadata": {},
   "source": [
    "# pt. 3 Plotting Functions"
   ]
  },
  {
   "cell_type": "code",
   "execution_count": 7,
   "metadata": {},
   "outputs": [],
   "source": [
    "def retrieve_environment(q_table, action):\n",
    "    env = q_table[action, :].reshape((4, 12))\n",
    "    print(env)\n",
    "  "
   ]
  },
  {
   "cell_type": "code",
   "execution_count": 8,
   "metadata": {},
   "outputs": [],
   "source": [
    "def plot_cumreward_normalized(reward_cache_qlearning, reward_cache_SARSA):\n",
    "    cum_rewards_q = []\n",
    "    rewards_mean = np.array(reward_cache_qlearning).mean()\n",
    "    rewards_std = np.array(reward_cache_qlearning).std()\n",
    "    count = 0 # used to determine the batches\n",
    "    cur_reward = 0 # accumulate reward for the batch\n",
    "    for cache in reward_cache_qlearning:\n",
    "        count = count + 1\n",
    "        cur_reward += cache\n",
    "        if(count == 10):\n",
    "            # normalize the sample\n",
    "            normalized_reward = (cur_reward - rewards_mean)/rewards_std\n",
    "            cum_rewards_q.append(normalized_reward)\n",
    "            cur_reward = 0\n",
    "            count = 0\n",
    "            \n",
    "    cum_rewards_SARSA = []\n",
    "    rewards_mean = np.array(reward_cache_SARSA).mean()\n",
    "    rewards_std = np.array(reward_cache_SARSA).std()\n",
    "    count = 0 # used to determine the batches\n",
    "    cur_reward = 0 # accumulate reward for the batch\n",
    "    for cache in reward_cache_SARSA:\n",
    "        count = count + 1\n",
    "        cur_reward += cache\n",
    "        if(count == 10):\n",
    "            # normalize the sample\n",
    "            normalized_reward = (cur_reward - rewards_mean)/rewards_std\n",
    "            cum_rewards_SARSA.append(normalized_reward)\n",
    "            cur_reward = 0\n",
    "            count = 0      \n",
    "    # prepare the graph    \n",
    "    plt.plot(cum_rewards_q, label = \"q_learning\")\n",
    "    plt.plot(cum_rewards_SARSA, label = \"SARSA\")\n",
    "    plt.ylabel('Cumulative Rewards')\n",
    "    plt.xlabel('Batches of Episodes (sample size 10) ')\n",
    "    plt.title(\"Q-Learning/SARSA Convergence of Cumulative Reward\")\n",
    "    plt.legend(loc='lower right', ncol=2, mode=\"expand\", borderaxespad=0.)\n",
    "    plt.show()\n",
    "    "
   ]
  },
  {
   "cell_type": "code",
   "execution_count": 9,
   "metadata": {},
   "outputs": [],
   "source": [
    "def plot_number_steps(step_cache_qlearning, step_cache_SARSA): \n",
    "    cum_step_q = []\n",
    "    steps_mean = np.array(step_cache_qlearning).mean()\n",
    "    steps_std = np.array(step_cache_qlearning).std()\n",
    "    count = 0\n",
    "    cur_step = 0\n",
    "    for cache in step_cache_qlearning:\n",
    "        count = count + 1\n",
    "        cur_step += cache\n",
    "        if(count == 10):\n",
    "            normalized_step = (cur_step - steps_mean)/steps_std\n",
    "            cum_step_q.append(normalized_step)\n",
    "            cur_step = 0\n",
    "            count = 0\n",
    "            \n",
    "    cum_step_SARSA = []\n",
    "    steps_mean = np.array(step_cache_SARSA).mean()\n",
    "    steps_std = np.array(step_cache_SARSA).std()\n",
    "    count = 0\n",
    "    cur_step = 0\n",
    "    for cache in step_cache_SARSA:\n",
    "        count = count + 1\n",
    "        cur_step += cache\n",
    "        if(count == 10):\n",
    "            normalized_step = (cur_step - steps_mean)/steps_std\n",
    "            cum_step_SARSA.append(normalized_step)\n",
    "            cur_step = 0\n",
    "            count = 0         \n",
    "    plt.plot(cum_step_q, label = \"q_learning\")\n",
    "    plt.plot(cum_step_SARSA, label = \"SARSA\")\n",
    "    plt.ylabel('Number of iterations')\n",
    "    plt.xlabel('Batches of Episodes (sample size 10) ')\n",
    "    plt.title(\"Q-Learning/SARSA Iteration number untill game ends\")\n",
    "    plt.legend(loc='lower right', ncol=2, mode=\"expand\", borderaxespad=0.)\n",
    "    plt.show()\n",
    "    \n",
    "\n",
    "    "
   ]
  },
  {
   "cell_type": "code",
   "execution_count": 10,
   "metadata": {},
   "outputs": [],
   "source": [
    "def plot_qlearning_smooth(reward_cache):\n",
    "    mean_rev = (np.array(reward_cache[0:11]).sum())/10\n",
    "    cum_rewards = [mean_rev] * 10\n",
    "    idx = 0\n",
    "    for cache in reward_cache:\n",
    "        cum_rewards[idx] = cache\n",
    "        idx += 1\n",
    "        smooth_reward = (np.array(cum_rewards).mean())\n",
    "        cum_rewards.append(smooth_reward)\n",
    "        if(idx == 10):\n",
    "            idx = 0\n",
    "        \n",
    "    plt.plot(cum_rewards)\n",
    "    plt.ylabel('Cumulative Rewards')\n",
    "    plt.xlabel('Batches of Episodes (sample size 10) ')\n",
    "    plt.title(\"Q-Learning  Convergence of Cumulative Reward\")\n",
    "    plt.legend(loc='lower left', ncol=2, mode=\"expand\", borderaxespad=0.)\n",
    "    plt.show()"
   ]
  },
  {
   "cell_type": "code",
   "execution_count": 11,
   "metadata": {},
   "outputs": [],
   "source": [
    "def generate_heatmap(q_table):\n",
    "    import seaborn as sns; sns.set()\n",
    "    data = np.mean(q_table, axis = 0)\n",
    "    print(data)\n",
    "    data = data.reshape((4, 12))\n",
    "    ax = sns.heatmap(np.array(data))\n",
    "    return ax"
   ]
  },
  {
   "cell_type": "markdown",
   "metadata": {},
   "source": [
    "# Pt 4.  - Models training"
   ]
  },
  {
   "cell_type": "code",
   "execution_count": 12,
   "metadata": {},
   "outputs": [
    {
     "name": "stdout",
     "output_type": "stream",
     "text": [
      "Agent trained with SARSA-learning after 500 iterations\n",
      "[[0. 0. 0. 0. 0. 0. 0. 0. 0. 0. 0. 0.]\n",
      " [1. 1. 1. 1. 1. 1. 1. 1. 1. 1. 1. 1.]\n",
      " [1. 0. 0. 0. 0. 0. 0. 0. 0. 0. 1. 1.]\n",
      " [1. 0. 0. 0. 0. 0. 0. 0. 0. 0. 0. 1.]]\n",
      "Agent trained with Q-learning after 500 iterations\n",
      "[[0. 0. 0. 0. 0. 0. 0. 0. 0. 0. 0. 0.]\n",
      " [0. 0. 0. 0. 0. 0. 0. 0. 0. 0. 0. 0.]\n",
      " [1. 1. 1. 1. 1. 1. 1. 1. 1. 1. 1. 1.]\n",
      " [1. 0. 0. 0. 0. 0. 0. 0. 0. 0. 0. 1.]]\n"
     ]
    }
   ],
   "source": [
    "q_table_SARSA, reward_cache_SARSA, step_cache_SARSA = SarsaLearningPacardoSolver().fit()\n",
    "q_table_qlearning, reward_cache_qlearning, step_cache_qlearning = QLearningPacardoSolver().fit()\n",
    "    "
   ]
  },
  {
   "cell_type": "code",
   "execution_count": 13,
   "metadata": {},
   "outputs": [
    {
     "data": {
      "image/png": "[encoded data removed]",
      "text/plain": [
       "<Figure size 432x288 with 1 Axes>"
      ]
     },
     "metadata": {
      "needs_background": "light"
     },
     "output_type": "display_data"
    },
    {
     "data": {
      "image/png": "[encoded data removed]",
      "text/plain": [
       "<Figure size 432x288 with 1 Axes>"
      ]
     },
     "metadata": {
      "needs_background": "light"
     },
     "output_type": "display_data"
    }
   ],
   "source": [
    "plot_number_steps(step_cache_qlearning, step_cache_SARSA)\n",
    "plot_cumreward_normalized(reward_cache_qlearning,reward_cache_SARSA)"
   ]
  },
  {
   "cell_type": "code",
   "execution_count": 14,
   "metadata": {},
   "outputs": [
    {
     "name": "stdout",
     "output_type": "stream",
     "text": [
      "Visualize environment Q-learning\n"
     ]
    },
    {
     "name": "stderr",
     "output_type": "stream",
     "text": [
      "/Users/astronaut/opt/anaconda3/lib/python3.7/site-packages/statsmodels/tools/_testing.py:19: FutureWarning: pandas.util.testing is deprecated. Use the functions in the public API at pandas.testing instead.\n",
      "  import pandas.util.testing as tm\n"
     ]
    },
    {
     "name": "stdout",
     "output_type": "stream",
     "text": [
      "[ -7.28705399  -7.10564649  -6.90714739  -6.65605771  -6.30821784\n",
      "  -5.93241047  -5.58343514  -5.09397491  -4.72149683  -4.16846846\n",
      "  -3.49384993  -2.9443988   -7.41814598  -7.21693061  -6.97292378\n",
      "  -6.63952021  -6.22047521  -5.82212296  -5.38689419  -4.83995446\n",
      "  -4.44749417  -3.92121668  -3.06332539  -2.32926561  -7.49231361\n",
      " -30.43278677 -30.20218718 -29.94907858 -29.6755415  -29.341557\n",
      " -28.62791905 -28.58113484 -28.17770943 -27.5274476  -27.12150514\n",
      "  -2.07937218 -30.7206731    0.           0.           0.\n",
      "   0.           0.           0.           0.           0.\n",
      "   0.           0.           0.        ]\n",
      "AxesSubplot(0.125,0.125;0.62x0.755)\n"
     ]
    },
    {
     "data": {
      "image/png": "[encoded data removed]",
      "text/plain": [
       "<Figure size 432x288 with 2 Axes>"
      ]
     },
     "metadata": {},
     "output_type": "display_data"
    }
   ],
   "source": [
    "print(\"Visualize environment Q-learning\")\n",
    "ax_q = generate_heatmap(q_table_qlearning.table)\n",
    "print(ax_q) "
   ]
  },
  {
   "cell_type": "code",
   "execution_count": 15,
   "metadata": {},
   "outputs": [
    {
     "name": "stdout",
     "output_type": "stream",
     "text": [
      "Visualize SARSA\n",
      "[ -7.74258305 -13.79532144 -12.93806062 -15.98962627  -8.3039847\n",
      " -16.78440609 -15.42837455 -18.61878229 -12.50400289 -11.54406198\n",
      "  -9.43078067  -4.05281698  -7.91335033 -26.03818218 -25.12125091\n",
      " -25.9478266  -21.54639151 -21.57495497 -26.91532389 -25.74008335\n",
      " -18.72718577 -15.58270481 -25.74972086  -3.25670924  -8.20862071\n",
      " -31.00289615 -30.89701622 -30.83510901 -30.48107697 -30.36789722\n",
      " -30.34189571 -29.77831501 -29.46954489 -27.79542252 -29.15394395\n",
      "  -4.07593605 -31.38926555   0.           0.           0.\n",
      "   0.           0.           0.           0.           0.\n",
      "   0.           0.           0.        ]\n",
      "AxesSubplot(0.125,0.125;0.62x0.755)\n"
     ]
    },
    {
     "data": {
      "image/png": "[encoded data removed]",
      "text/plain": [
       "<Figure size 432x288 with 2 Axes>"
      ]
     },
     "metadata": {},
     "output_type": "display_data"
    }
   ],
   "source": [
    "print(\"Visualize SARSA\")\n",
    "ax_SARSA = generate_heatmap(q_table_SARSA.table)\n",
    "print(ax_SARSA)"
   ]
  }
 ],
 "metadata": {
  "kernelspec": {
   "display_name": "Python 3",
   "language": "python",
   "name": "python3"
  },
  "language_info": {
   "codemirror_mode": {
    "name": "ipython",
    "version": 3
   },
   "file_extension": ".py",
   "mimetype": "text/x-python",
   "name": "python",
   "nbconvert_exporter": "python",
   "pygments_lexer": "ipython3",
   "version": "3.7.4"
  }
 },
 "nbformat": 4,
 "nbformat_minor": 2
}
