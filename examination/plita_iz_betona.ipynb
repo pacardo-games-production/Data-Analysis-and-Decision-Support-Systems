{
 "cells": [
  {
   "cell_type": "code",
   "execution_count": 1,
   "metadata": {},
   "outputs": [],
   "source": [
    "import pandas as pd\n",
    "import numpy as np"
   ]
  },
  {
   "cell_type": "code",
   "execution_count": 2,
   "metadata": {},
   "outputs": [],
   "source": [
    "class PacardoCell():\n",
    "    def __init__(self, wires, price):\n",
    "        self.wires = wires\n",
    "        self.price = price\n",
    "        \n",
    "    def calculate_cost(self, viewed_wires):\n",
    "        return len(np.setdiff1d(self.wires,viewed_wires))/self.price"
   ]
  },
  {
   "cell_type": "code",
   "execution_count": 3,
   "metadata": {},
   "outputs": [],
   "source": [
    "table = [\n",
    "    PacardoCell([1,2], 6),#0\n",
    "    PacardoCell([1,2], 2),#1\n",
    "    PacardoCell([1,3], 3),#2\n",
    "    PacardoCell([6], 4),#3\n",
    "    PacardoCell([6], 5),#4\n",
    "    PacardoCell([], 6),#5\n",
    "    PacardoCell([2], 7),#6\n",
    "    PacardoCell([3,6], 8),#7\n",
    "    PacardoCell([3,5], 9),#8\n",
    "    PacardoCell([5], 10),#9\n",
    "    PacardoCell([2], 11),#10\n",
    "    PacardoCell([2,4], 12),#11\n",
    "    PacardoCell([4,6], 13),#12\n",
    "    PacardoCell([4,3,5],14),#13\n",
    "    PacardoCell([5], 15)#14\n",
    "]"
   ]
  },
  {
   "cell_type": "code",
   "execution_count": 4,
   "metadata": {},
   "outputs": [],
   "source": [
    "table2 = [\n",
    "    PacardoCell([1,2], 15),#0\n",
    "    PacardoCell([1,2], 14),#1\n",
    "    PacardoCell([1,3], 13),#2\n",
    "    PacardoCell([6], 12),#3\n",
    "    PacardoCell([6], 11),#4\n",
    "    PacardoCell([], 10),#5\n",
    "    PacardoCell([2], 9),#6\n",
    "    PacardoCell([3,6], 8),#7\n",
    "    PacardoCell([3,5], 7),#8\n",
    "    PacardoCell([5], 6),#9\n",
    "    PacardoCell([2], 5),#10\n",
    "    PacardoCell([2,4], 4),#11\n",
    "    PacardoCell([4,6], 3),#12\n",
    "    PacardoCell([4,3,5],2),#13\n",
    "    PacardoCell([5], 7)#14\n",
    "]"
   ]
  },
  {
   "cell_type": "code",
   "execution_count": 5,
   "metadata": {},
   "outputs": [],
   "source": [
    "table3 = [\n",
    "    PacardoCell([1,2], 1),#0\n",
    "    PacardoCell([1,2], 1),#1\n",
    "    PacardoCell([1,3], 1),#2\n",
    "    PacardoCell([6], 1),#3\n",
    "    PacardoCell([6], 1),#4\n",
    "    PacardoCell([], 1),#5\n",
    "    PacardoCell([2], 1),#6\n",
    "    PacardoCell([3,6], 1),#7\n",
    "    PacardoCell([3,5], 1),#8\n",
    "    PacardoCell([5], 1),#9\n",
    "    PacardoCell([2], 1),#10\n",
    "    PacardoCell([2,4], 1),#11\n",
    "    PacardoCell([4,6], 1),#12\n",
    "    PacardoCell([4,3,5],1),#13\n",
    "    PacardoCell([5], 1)#14\n",
    "]"
   ]
  },
  {
   "cell_type": "code",
   "execution_count": 6,
   "metadata": {},
   "outputs": [],
   "source": [
    "def get_position(available_cells):\n",
    "    return np.where(available_cells == 0)[0]"
   ]
  },
  {
   "cell_type": "code",
   "execution_count": 7,
   "metadata": {},
   "outputs": [],
   "source": [
    "def update_state(available_cells, position):\n",
    "    available_cells[position] = 1"
   ]
  },
  {
   "cell_type": "code",
   "execution_count": 8,
   "metadata": {},
   "outputs": [],
   "source": [
    "def update_wires(pacardoCell, checked_wires):\n",
    "    for w in pacardoCell.wires :\n",
    "        if not checked_wires.count(w):\n",
    "            checked_wires.append(w)"
   ]
  },
  {
   "cell_type": "code",
   "execution_count": 9,
   "metadata": {},
   "outputs": [],
   "source": [
    "def greedy_policy(table, available_cells, penalty_cache, exp_rate = .3):\n",
    "    action = None\n",
    "    if np.random.uniform(0, 1) <= exp_rate:\n",
    "        action = np.random.choice(np.where(available_cells == 0)[0])\n",
    "    else:    \n",
    "        value_max = -np.inf\n",
    "        for p in np.where(available_cells == 0)[0]:\n",
    "            cost = 0 if (penalty_cache.get(p)) is None else penalty_cache.get(p)\n",
    "            if (cost >= value_max):\n",
    "                value_max = cost\n",
    "                action = p\n",
    "    return action"
   ]
  },
  {
   "cell_type": "code",
   "execution_count": 10,
   "metadata": {},
   "outputs": [],
   "source": [
    "def feedReward(table, penalty_cache, states_cache):\n",
    "    for st in reversed(states_cache):\n",
    "        if penalty_cache.get(st) is None:\n",
    "            penalty_cache[st] = 0\n",
    "        wires =  np.inf if len(table[st].wires) == 0 else table[st].price/len(table[st].wires)\n",
    "        penalty_cache[st] += .01 * (.9 * (-1 * wires) - penalty_cache[st])"
   ]
  },
  {
   "cell_type": "code",
   "execution_count": 11,
   "metadata": {},
   "outputs": [],
   "source": [
    "def fit(table, penalty_cache):\n",
    "    available_cells = np.zeros(15)\n",
    "    checked_wires = []\n",
    "    states_cache = []\n",
    "    while(len(checked_wires) < 6):\n",
    "        action = greedy_policy(table, available_cells, penalty_cache)\n",
    "        states_cache.append(action)\n",
    "        update_state(available_cells, action)\n",
    "        update_wires(table[action], checked_wires)\n",
    "        if (len(checked_wires) >= 6):\n",
    "            return states_cache\n",
    "        \n",
    "        "
   ]
  },
  {
   "cell_type": "code",
   "execution_count": 12,
   "metadata": {},
   "outputs": [],
   "source": [
    "import operator\n",
    "from tqdm import tqdm\n",
    "def fit_epoch(epochs, table):\n",
    "    penalty_cache = {}\n",
    "    for _ in tqdm(range(epochs)):\n",
    "        states_cache = fit(table, penalty_cache)\n",
    "        feedReward(table, penalty_cache, states_cache)\n",
    "    #выводим результаты     \n",
    "    tmp = []  \n",
    "    tmp2 = []\n",
    "    for i in tqdm(reversed(sorted(penalty_cache.items(), key=operator.itemgetter(1)))) :\n",
    "        if (len(tmp) < 6):\n",
    "            for w in table[i[0]].wires:\n",
    "                if (not tmp.count(w)):\n",
    "                    tmp.append(w)\n",
    "                    tmp2.append(i[0])\n",
    "    return set(tmp2)"
   ]
  },
  {
   "cell_type": "code",
   "execution_count": 13,
   "metadata": {},
   "outputs": [
    {
     "name": "stderr",
     "output_type": "stream",
     "text": [
      "100%|██████████| 100000/100000 [00:10<00:00, 9679.21it/s]\n",
      "15it [00:00, 64726.91it/s]\n"
     ]
    },
    {
     "data": {
      "text/plain": [
       "{1, 7, 8, 13}"
      ]
     },
     "execution_count": 13,
     "metadata": {},
     "output_type": "execute_result"
    }
   ],
   "source": [
    "fit_epoch(100000, table)"
   ]
  },
  {
   "cell_type": "code",
   "execution_count": 14,
   "metadata": {
    "scrolled": true
   },
   "outputs": [
    {
     "name": "stderr",
     "output_type": "stream",
     "text": [
      "100%|██████████| 100000/100000 [00:07<00:00, 12599.22it/s]\n",
      "15it [00:00, 36856.80it/s]\n"
     ]
    },
    {
     "data": {
      "text/plain": [
       "{0, 7, 13}"
      ]
     },
     "execution_count": 14,
     "metadata": {},
     "output_type": "execute_result"
    }
   ],
   "source": [
    "fit_epoch(100000, table3)"
   ]
  },
  {
   "cell_type": "code",
   "execution_count": 15,
   "metadata": {
    "scrolled": false
   },
   "outputs": [
    {
     "name": "stderr",
     "output_type": "stream",
     "text": [
      "100%|██████████| 100000/100000 [00:09<00:00, 10832.05it/s]\n",
      "15it [00:00, 67216.41it/s]\n"
     ]
    },
    {
     "data": {
      "text/plain": [
       "{2, 11, 12, 13}"
      ]
     },
     "execution_count": 15,
     "metadata": {},
     "output_type": "execute_result"
    }
   ],
   "source": [
    "fit_epoch(100000, table2)"
   ]
  }
 ],
 "metadata": {
  "kernelspec": {
   "display_name": "Python 3",
   "language": "python",
   "name": "python3"
  },
  "language_info": {
   "codemirror_mode": {
    "name": "ipython",
    "version": 3
   },
   "file_extension": ".py",
   "mimetype": "text/x-python",
   "name": "python",
   "nbconvert_exporter": "python",
   "pygments_lexer": "ipython3",
   "version": "3.7.4"
  }
 },
 "nbformat": 4,
 "nbformat_minor": 2
}
