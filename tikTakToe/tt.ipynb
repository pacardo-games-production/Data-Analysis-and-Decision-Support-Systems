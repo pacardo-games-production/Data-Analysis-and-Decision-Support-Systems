{
 "cells": [
  {
   "cell_type": "code",
   "execution_count": 151,
   "metadata": {
    "id": "x9kpRcHi5fyc"
   },
   "outputs": [],
   "source": [
    "import pandas as pd\n",
    "import numpy as np\n",
    "import matplotlib.pyplot as plt\n",
    "from tqdm import tqdm"
   ]
  },
  {
   "cell_type": "markdown",
   "metadata": {},
   "source": [
    "# 1. Creating TikTak player"
   ]
  },
  {
   "cell_type": "code",
   "execution_count": 136,
   "metadata": {},
   "outputs": [],
   "source": [
    "class PacardoPlayer:\n",
    "    \"\"\"\n",
    "        defines simple AI player\n",
    "        @constructors:\n",
    "            __init__(self, player_name, symbol = 1, exp_rate=0.3) - creates PacardoPlayer object\n",
    "        @methods:\n",
    "            - getHash(board) - returns string representation of board passed\n",
    "            - availablePositions(current_board) - returns empty cells on board passed\n",
    "            - get_action(current_board) - returns (i,j) formatted player turn\n",
    "            - is_done(reward) - give player a revard\n",
    "            - savePolicy() - saves policy for player, after end of the game\n",
    "    \"\"\"\n",
    "    BOARD_ROWS=3\n",
    "    BOARD_COLS=3\n",
    "    def __init__(self, player_name, symbol = 1, exp_rate=0.3):\n",
    "        self.name = player_name\n",
    "        self.symbol = symbol\n",
    "        self.states = []  # record all positions taken\n",
    "        self.lr = 0.2\n",
    "        self.exp_rate = exp_rate\n",
    "        self.decay_gamma = 0.9\n",
    "        self.states_value = {}  # state -> value\n",
    "\n",
    "    def getHash(self, board):\n",
    "        boardHash = str(board.reshape(self.BOARD_COLS * self.BOARD_ROWS))\n",
    "        return boardHash\n",
    "    \n",
    "    def availablePositions(self, board):\n",
    "        positions = []\n",
    "        for i in range(self.BOARD_ROWS):\n",
    "            for j in range(self.BOARD_COLS):\n",
    "                if board[i, j] == 0:\n",
    "                    positions.append((i, j))  # need to be tuple\n",
    "        return positions\n",
    "    \n",
    "    def get_action(self, current_board):\n",
    "        positions = self.availablePositions(current_board)\n",
    "        if np.random.uniform(0, 1) <= self.exp_rate:\n",
    "            idx = np.random.choice(len(positions))\n",
    "            action = positions[idx]\n",
    "        else:\n",
    "            value_max = -999\n",
    "            for p in positions:\n",
    "                next_board = current_board.copy()\n",
    "                next_board[p] = self.symbol\n",
    "                next_boardHash = self.getHash(next_board)\n",
    "                value = 0 if self.states_value.get(next_boardHash) is None\\\n",
    "                        else self.states_value.get(next_boardHash)\n",
    "                if value >= value_max:\n",
    "                    value_max = value\n",
    "                    action = p\n",
    "        current_board[action] = self.symbol            \n",
    "        self.addState(self.getHash(current_board))            \n",
    "        return action            \n",
    "        return action\n",
    "    \n",
    "    def addState(self, state):\n",
    "        self.states.append(state)\n",
    "\n",
    "    # at the end of game, backpropagate and update states value\n",
    "    def is_done(self, reward):\n",
    "        for st in reversed(self.states):\n",
    "            if self.states_value.get(st) is None:\n",
    "                self.states_value[st] = 0\n",
    "            self.states_value[st] += self.lr * (self.decay_gamma * reward - self.states_value[st])\n",
    "            reward = self.states_value[st]\n",
    "        self.reset()\n",
    "\n",
    "    def reset(self):\n",
    "        self.states = []\n",
    "\n",
    "    def savePolicy(self):\n",
    "        fw = open('policy_' + str(self.name), 'wb')\n",
    "        pickle.dump(self.states_value, fw)\n",
    "        fw.close()\n",
    "\n",
    "    def loadPolicy(self, file):\n",
    "        fr = open(file, 'rb')\n",
    "        self.states_value = pickle.load(fr)\n",
    "        fr.close()"
   ]
  },
  {
   "cell_type": "markdown",
   "metadata": {},
   "source": [
    "# 2. Creating mediator for player"
   ]
  },
  {
   "cell_type": "code",
   "execution_count": 157,
   "metadata": {},
   "outputs": [],
   "source": [
    "class PlayerMediator:\n",
    "    '''\n",
    "        defines mediator for PacardoPlayer class\n",
    "        should be used to adapt player to gaming process\n",
    "        \n",
    "        @constructors:\n",
    "            __init__(self, isZero, name[OPTIONAL]) - creates player mediator object\n",
    "        \n",
    "        @methods:\n",
    "            - _transform_board(board) - encodes/decodes board for player\n",
    "            - get_action(self, state) - returns player action\n",
    "            - is_done(self, state, reward) - rewards player at the end of the game\n",
    "            - save_state() - saves policy for player\n",
    "    '''\n",
    "    def __init__(self, isZero = False, name = \"pacardo_machine\"):\n",
    "        self.player = PacardoPlayer(\n",
    "            player_name = name,\n",
    "            symbol = -1 if (isZero) else 1\n",
    "        )\n",
    "            \n",
    "    def _transform_board(self, board):\n",
    "        board = np.where(board==-1, 2, board)\n",
    "        board = np.where(board==0, -1, board)\n",
    "        board = np.where(board==2, 0, board)\n",
    "        return board\n",
    "    \n",
    "    def get_action(self, state):\n",
    "        return self.player.get_action(self._transform_board(state))\n",
    "    \n",
    "    def is_done(self, state, reward):\n",
    "        self.player.is_done(reward)\n",
    "    \n",
    "    def save_weight(self):\n",
    "        self.player.savePolicy()"
   ]
  },
  {
   "cell_type": "markdown",
   "metadata": {},
   "source": [
    "# 3. Creating gaming process"
   ]
  },
  {
   "cell_type": "code",
   "execution_count": 148,
   "metadata": {},
   "outputs": [],
   "source": [
    "def check_win(a,lable):\n",
    "    for i in range(3):\n",
    "        if np.all(a[i,:] == int(lable)):\n",
    "            return True\n",
    "        elif np.all(a[:,i] == int(lable)):\n",
    "            return True\n",
    "    if np.all(np.fliplr(a).diagonal() == int(lable)):\n",
    "        return True\n",
    "    if np.all(a.diagonal() == int(lable)):\n",
    "        return True\n",
    "    return False"
   ]
  },
  {
   "cell_type": "code",
   "execution_count": 158,
   "metadata": {},
   "outputs": [],
   "source": [
    "def two_came_in_one_came_out(agent_zeros, agent_ones, print_state = False):\n",
    "    state = (np.zeros((3,3))-1).astype('int')\n",
    "    while -1 in state:\n",
    "        #ход креста\n",
    "        state[agent_ones.get_action(state)] = 1\n",
    "        if print_state:\n",
    "            print(state)\n",
    "            print()\n",
    "        if check_win(state, 1):\n",
    "            agent_ones.is_done(state, True)\n",
    "            agent_zeros.is_done(state, False)\n",
    "            return 1\n",
    "        if not(-1 in state):\n",
    "            break\n",
    "        state[agent_zeros.get_action(state)] = 0\n",
    "        if print_state:\n",
    "            print(state)\n",
    "            print()\n",
    "        if check_win(state, 0):\n",
    "            agent_ones.is_done(state, False)\n",
    "            agent_zeros.is_done(state, True)\n",
    "            return 0\n",
    "    agent_ones.is_done(state, False)\n",
    "    agent_zeros.is_done(state, False)\n",
    "    return -1\n",
    "\n",
    "\n",
    "def fit(agent_zeros, agent_ones, epochs, step_per_epoch, save_config = False, plot_win = False):\n",
    "    history = {\n",
    "        'epoch':[],\n",
    "        'zeros win':[],\n",
    "        'ones win':[],\n",
    "        'draw':[]\n",
    "    }\n",
    "    for epoch in tqdm(np.arange(epochs)):\n",
    "        z_win = 0\n",
    "        o_win = 0\n",
    "        draw = 0\n",
    "        for step in np.arange(step_per_epoch):\n",
    "            play_result = two_came_in_one_came_out(agent_zeros, agent_ones)\n",
    "            if play_result == 0:\n",
    "                z_win += 1\n",
    "            elif play_result == 1:\n",
    "                o_win += 1\n",
    "            else:\n",
    "                draw += 1\n",
    "        history['epoch'].append(epoch)\n",
    "        history['zeros win'].append(z_win)\n",
    "        history['ones win'].append(o_win)\n",
    "        history['draw'].append(draw)\n",
    "    history = pd.DataFrame(history)\n",
    "    if plot_win:\n",
    "        plt.figure(figsize=(10, 8))\n",
    "        plt.plot(history['epoch'], (history['zeros win']/step_per_epoch)*100, 'b-', label = '% побед нуля в эпохе')\n",
    "        plt.plot(history['epoch'], (history['ones win']/step_per_epoch)*100, 'r-', label = '% побед креста в эпохе')\n",
    "        plt.plot(history['epoch'], (history['draw']/step_per_epoch)*100, 'k--', label = '% ничей в эпохе')\n",
    "        plt.xlim([0,epochs])\n",
    "        plt.ylim([0,101])\n",
    "        plt.grid()\n",
    "        plt.legend()\n",
    "        plt.show()\n",
    "    if save_config:\n",
    "        agent_ones.save_weight()\n",
    "        agent_zeros.save_weight()"
   ]
  },
  {
   "cell_type": "markdown",
   "metadata": {},
   "source": [
    "# 4. Player training"
   ]
  },
  {
   "cell_type": "code",
   "execution_count": 161,
   "metadata": {},
   "outputs": [
    {
     "name": "stderr",
     "output_type": "stream",
     "text": [
      "100%|██████████| 100/100 [03:20<00:00,  2.01s/it]\n"
     ]
    },
    {
     "data": {
      "image/png": "[encoded data removed]",
      "text/plain": [
       "<Figure size 720x576 with 1 Axes>"
      ]
     },
     "metadata": {
      "needs_background": "light"
     },
     "output_type": "display_data"
    }
   ],
   "source": [
    "one_player = PlayerMediator(isZero=False, name=\"Pacardo_Machine_1\")\n",
    "zero_player = PlayerMediator(isZero=True, name=\"Pacardo_Machine_2\")\n",
    "fit(\n",
    "    zero_player,\n",
    "    one_player,\n",
    "    epochs = 100,\n",
    "    step_per_epoch = 1000,\n",
    "    save_config = True,\n",
    "    plot_win = True\n",
    ")"
   ]
  },
  {
   "cell_type": "code",
   "execution_count": null,
   "metadata": {},
   "outputs": [],
   "source": []
  }
 ],
 "metadata": {
  "colab": {
   "name": "tt.ipynb",
   "provenance": []
  },
  "kernelspec": {
   "display_name": "Python 3",
   "language": "python",
   "name": "python3"
  },
  "language_info": {
   "codemirror_mode": {
    "name": "ipython",
    "version": 3
   },
   "file_extension": ".py",
   "mimetype": "text/x-python",
   "name": "python",
   "nbconvert_exporter": "python",
   "pygments_lexer": "ipython3",
   "version": "3.7.4"
  }
 },
 "nbformat": 4,
 "nbformat_minor": 1
}
