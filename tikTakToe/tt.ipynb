{
 "cells": [
  {
   "cell_type": "code",
   "execution_count": 62,
   "metadata": {
    "id": "x9kpRcHi5fyc"
   },
   "outputs": [],
   "source": [
    "import numpy as np\n",
    "import pickle"
   ]
  },
  {
   "cell_type": "code",
   "execution_count": 63,
   "metadata": {
    "id": "x9kpRcHi5fyc"
   },
   "outputs": [],
   "source": [
    "BOARD_ROWS=3\n",
    "BOARD_COLS=3"
   ]
  },
  {
   "cell_type": "code",
   "execution_count": 64,
   "metadata": {
    "id": "x9kpRcHi5fyc"
   },
   "outputs": [],
   "source": [
    "class Player:\n",
    "    \"\"\"\n",
    "        defines simple AI player\n",
    "        methods:\n",
    "        - getHash(board) - returns string representation of board passed\n",
    "        - availablePositions(current_board) - returns empty cells on board passed\n",
    "        - get_action(current_board) - returns (i,j) formatted player turn\n",
    "        - is_done(reward) - give player a revard\n",
    "        - savepolicy() - saves policy for player, after end of the game\n",
    "    \"\"\"\n",
    "    def __init__(self, isZero, name = \"Победитель\", exp_rate=0.3):\n",
    "        self.name = name\n",
    "        self.symbol = 0 if isZero else 1\n",
    "        self.states = []  # record all positions taken\n",
    "        self.lr = 0.2\n",
    "        self.exp_rate = exp_rate\n",
    "        self.decay_gamma = 0.9\n",
    "        self.states_value = {}  # state -> value\n",
    "\n",
    "    def getHash(self, board):\n",
    "        boardHash = str(board.reshape(BOARD_COLS * BOARD_ROWS))\n",
    "        return boardHash\n",
    "    \n",
    "    def availablePositions(self, board):\n",
    "        positions = []\n",
    "        print(BOARD_ROWS)\n",
    "        print(BOARD_COLS)\n",
    "        for i in range(BOARD_ROWS):\n",
    "            for j in range(BOARD_COLS):\n",
    "                print(board[i,j])\n",
    "                if board[i, j] == -1:\n",
    "                    positions.append((i, j))  # need to be tuple\n",
    "        return positions\n",
    "    \n",
    "    def get_action(self, current_board):\n",
    "        positions = self.availablePositions(current_board)\n",
    "        action = None\n",
    "        if np.random.uniform(0, 1) <= self.exp_rate:\n",
    "            idx = np.random.choice(len(positions))\n",
    "            action = positions[idx]\n",
    "        else:\n",
    "            value_max = -999\n",
    "            for p in positions:\n",
    "                next_board = current_board.copy()\n",
    "                next_board[p] = self.symbol\n",
    "                next_boardHash = self.getHash(next_board)\n",
    "                value = -1 if self.states_value.get(next_boardHash) is None\\\n",
    "                        else self.states_value.get(next_boardHash)\n",
    "                if value >= value_max:\n",
    "                    value_max = value\n",
    "                    action = p\n",
    "                    \n",
    "        current_board[action] = self.symbol            \n",
    "        self.addState(self.getHash(current_board))            \n",
    "        return action\n",
    "    \n",
    "    def addState(self, state):\n",
    "        self.states.append(state)\n",
    "        \n",
    "    # at the end of game, backpropagate and update states value\n",
    "    def is_done(self, reward):\n",
    "        for st in reversed(self.states):\n",
    "            if self.states_value.get(st) is None:\n",
    "                self.states_value[st] = -1\n",
    "            self.states_value[st] += self.lr * (self.decay_gamma * reward - self.states_value[st])\n",
    "            reward = self.states_value[st]\n",
    "        self.reset()\n",
    "\n",
    "    def reset(self):\n",
    "        self.states = []\n",
    "\n",
    "    def savePolicy(self):\n",
    "\n",
    "        fw = open('policy_' + str(self.name), 'wb')\n",
    "        pickle.dump(self.states_value, fw)\n",
    "        fw.close()\n",
    "\n",
    "    def loadPolicy(self, file):\n",
    "        fr = open(file, 'rb')\n",
    "        self.states_value = pickle.load(fr)\n",
    "        fr.close()"
   ]
  },
  {
   "cell_type": "code",
   "execution_count": 65,
   "metadata": {},
   "outputs": [],
   "source": [
    "p = Player(isZero = True)"
   ]
  },
  {
   "cell_type": "code",
   "execution_count": null,
   "metadata": {},
   "outputs": [],
   "source": []
  }
 ],
 "metadata": {
  "colab": {
   "name": "tt.ipynb",
   "provenance": []
  },
  "kernelspec": {
   "display_name": "Python 3",
   "language": "python",
   "name": "python3"
  },
  "language_info": {
   "codemirror_mode": {
    "name": "ipython",
    "version": 3
   },
   "file_extension": ".py",
   "mimetype": "text/x-python",
   "name": "python",
   "nbconvert_exporter": "python",
   "pygments_lexer": "ipython3",
   "version": "3.7.4"
  }
 },
 "nbformat": 4,
 "nbformat_minor": 1
}
