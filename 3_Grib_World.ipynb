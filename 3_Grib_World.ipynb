{
  "nbformat": 4,
  "nbformat_minor": 0,
  "metadata": {
    "colab": {
      "name": "3.Grib-World.ipynb",
      "provenance": [],
      "collapsed_sections": []
    },
    "kernelspec": {
      "name": "python3",
      "display_name": "Python 3"
    }
  },
  "cells": [
    {
      "cell_type": "code",
      "metadata": {
        "id": "cCj18qEzIl7e"
      },
      "source": [
        "import numpy as np"
      ],
      "execution_count": 2,
      "outputs": []
    },
    {
      "cell_type": "code",
      "metadata": {
        "colab": {
          "base_uri": "https://localhost:8080/"
        },
        "id": "S7y0fSW2Ifyj",
        "outputId": "489673a5-5d80-4f41-a1f9-be51319e640e"
      },
      "source": [
        "x = np.zeros([25, 25])\r\n",
        "x.shape"
      ],
      "execution_count": 16,
      "outputs": [
        {
          "output_type": "execute_result",
          "data": {
            "text/plain": [
              "(25, 25)"
            ]
          },
          "metadata": {
            "tags": []
          },
          "execution_count": 16
        }
      ]
    },
    {
      "cell_type": "markdown",
      "metadata": {
        "id": "TJ7WLRQgaeTP"
      },
      "source": [
        "Вероятности переходов"
      ]
    },
    {
      "cell_type": "code",
      "metadata": {
        "id": "0XfJ9BLfRSUA"
      },
      "source": [
        "x[0] = [1/2, 1/4,  0,    0,     0,\r\n",
        "        1/4,  0,   0,    0,     0, \r\n",
        "        0,    0,   0,    0,     0,\r\n",
        "        0,    0,   0,    0,     0,\r\n",
        "        0,    0,   0,    0,     0]\r\n",
        "\r\n",
        "x[1] = [0,    0,   0,    0,     0,\r\n",
        "        0,    0,   0,    0,     0,\r\n",
        "        0,    0,   0,    0,     0,\r\n",
        "        0,    0,   0,    0,     0,\r\n",
        "        0,    1,   0,    0,     0]\r\n",
        "\r\n",
        "x[2] = [0,    1/4,   1/4,    1/4,     0,\r\n",
        "        0,    0,    1/4,    0,     0,\r\n",
        "        0,    0,   0,    0,     0,\r\n",
        "        0,    0,   0,    0,     0,\r\n",
        "        0,    0,   0,    0,     0]\r\n",
        "\r\n",
        "x[3] = [0,    0,   0,    0,     0,\r\n",
        "        0,    0,   0,    0,     0,\r\n",
        "        0,    0,   0,    1,     0,\r\n",
        "        0,    0,   0,    0,     0,\r\n",
        "        0,    0,   0,    0,     0]\r\n",
        "\r\n",
        "x[4] = [0,    0,   0,    1/4,     1/2,\r\n",
        "        0,    0,   0,    0,     1/4,\r\n",
        "        0,    0,   0,    0,     0,\r\n",
        "        0,    0,   0,    0,     0,\r\n",
        "        0,    0,   0,    0,     0]\r\n",
        "\r\n",
        "x[5] = [1/4,    0,   0,    0,     0,\r\n",
        "        1/4,    1/4,   0,    0,     0,\r\n",
        "        1/4,    0,   0,    0,     0,\r\n",
        "        0,    0,   0,    0,     0,\r\n",
        "        0,    0,   0,    0,     0]\r\n",
        "\r\n",
        "x[6] = [0,    1/4,   0,    0,     0,\r\n",
        "        1/4,    0,   1/4,    0,     0,\r\n",
        "        0,    1/4,   0,    0,     0,\r\n",
        "        0,    0,   0,    0,     0,\r\n",
        "        0,    0,   0,    0,     0]\r\n",
        "\r\n",
        "x[7] = [0,    0,   1/4,    0,     0,\r\n",
        "        0,    1/4,   0,    1/4,     0,\r\n",
        "        0,    0,   1/4,    0,     0,\r\n",
        "        0,    0,   0,    0,     0,\r\n",
        "        0,    0,   0,    0,     0]\r\n",
        "\r\n",
        "x[8] = [0,    0,   0,    1/4,     0,\r\n",
        "        0,    0,   1/4,    0,     1/4,\r\n",
        "        0,    0,   0,    1/4,     0,\r\n",
        "        0,    0,   0,    0,     0,\r\n",
        "        0,    0,   0,    0,     0]\r\n",
        "\r\n",
        "x[9] = [0,    0,   0,    0,     1/4,\r\n",
        "        0,    0,   0,    1/4,     1/4,\r\n",
        "        0,    0,   0,    0,     1/4,\r\n",
        "        0,    0,   0,    0,     0,\r\n",
        "        0,    0,   0,    0,     0]\r\n",
        "\r\n",
        "x[10] = [0,    0,   0,    0,     0,\r\n",
        "        1/4,    0,   0,    0,     0,\r\n",
        "        1/4,    1/4,   0,    0,     0,\r\n",
        "        1/4,    0,   0,    0,     0,\r\n",
        "        0,    0,   0,    0,     0]\r\n",
        "\r\n",
        "x[11] = [0,    0,   0,    0,     0,\r\n",
        "        0,    1/4,   0,    0,     0,\r\n",
        "        1/4,    0,   1/4,    0,     0,\r\n",
        "        0,    1/4,   0,    0,     0,\r\n",
        "        0,    0,   0,    0,     0]\r\n",
        "\r\n",
        "x[12] = [0,    0,   0,    0,     0,\r\n",
        "        0,    0,   1/4,    0,     0,\r\n",
        "        0,    1/4,   0,    1/4,     0,\r\n",
        "        0,    0,   1/4,    0,     0,\r\n",
        "        0,    0,   0,    0,     0]\r\n",
        "\r\n",
        "x[13] = [0,    0,   0,    0,     0,\r\n",
        "        0,    0,   0,    1/4,     0,\r\n",
        "        0,    0,   1/4,    0,     1/4,\r\n",
        "        0,    0,   0,   1/4,     0,\r\n",
        "        0,    0,   0,    0,     0]\r\n",
        "\r\n",
        "x[14] = [0,    0,   0,    0,     0,\r\n",
        "        0,    0,   0,    0,     1/4,\r\n",
        "        0,    0,   0,    1/4,     1/4,\r\n",
        "        0,    0,   0,    0,     1/4,\r\n",
        "        0,    0,   0,    0,     0]\r\n",
        "\r\n",
        "x[15] = [0,    0,   0,    0,     0,\r\n",
        "        0,    0,   0,    0,     0,\r\n",
        "        1/4,    0,   0,    0,     0,\r\n",
        "        1/4,    1/4,   0,    0,     0,\r\n",
        "        1/4,    0,   0,    0,     0]\r\n",
        "\r\n",
        "x[16] = [0,    0,   0,    0,     0,\r\n",
        "        0,    0,   0,    0,     0,\r\n",
        "        0,    1/4,   0,    0,     0,\r\n",
        "        1/4,    0,   1/4,    0,     0,\r\n",
        "        0,    1/4,   0,    0,     0]\r\n",
        "\r\n",
        "x[17] = [0,    0,   0,    0,     0,\r\n",
        "        0,    0,   0,    0,     0,\r\n",
        "        0,    0,   1/4,    0,     0,\r\n",
        "        0,    1/4,   0,    1/4,     0,\r\n",
        "        0,    0,   1/4,    0,     0]\r\n",
        "\r\n",
        "x[18] = [0,    0,   0,    0,     0,\r\n",
        "        0,    0,   0,    0,     0,\r\n",
        "        0,    0,   0,    1/4,     0,\r\n",
        "        0,    0,   1/4,    0,     1/4,\r\n",
        "        0,    0,   0,    1/4,     0]\r\n",
        "\r\n",
        "x[19] = [0,    0,   0,    0,     0,\r\n",
        "        0,    0,   0,    0,     0,\r\n",
        "        0,    0,   0,    0,     1/4,\r\n",
        "        0,    0,   0,    1/4,     1/4,\r\n",
        "        0,    0,   0,    0,     1/4]\r\n",
        "\r\n",
        "x[20] = [0,    0,   0,    0,     0,\r\n",
        "        0,    0,   0,    0,     0,\r\n",
        "        0,    0,   0,    0,     0,\r\n",
        "        1/4,    0,   0,    0,     0,\r\n",
        "        1/2,    1/4,   0,    0,     0]\r\n",
        "\r\n",
        "x[21] = [0,    0,   0,    0,     0,\r\n",
        "        0,    0,   0,    0,     0,\r\n",
        "        0,    0,   0,    0,     0,\r\n",
        "        0,    1/4,   0,    0,     0,\r\n",
        "        1/4,    1/4,   1/4,    0,     0]\r\n",
        "\r\n",
        "x[22] = [0,    0,   0,    0,     0,\r\n",
        "        0,    0,   0,    0,     0,\r\n",
        "        0,    0,   0,    0,     0,\r\n",
        "        0,    0,   1/4,    0,     0,\r\n",
        "        0,    1/4,   1/4,    1/4,     0]\r\n",
        "\r\n",
        "x[23] = [0,    0,   0,    0,     0,\r\n",
        "        0,    0,   0,    0,     0,\r\n",
        "        0,    0,   0,    0,     0,\r\n",
        "        0,    0,   0,    1/4,     0,\r\n",
        "        0,    0,   1/4,    1/4,     1/4]\r\n",
        "\r\n",
        "x[24] = [0,    0,   0,    0,     0,\r\n",
        "        0,    0,   0,    0,     0,\r\n",
        "        0,    0,   0,    0,     0,\r\n",
        "        0,    0,   0,    0,     1/4,\r\n",
        "        0,    0,   0,    1/4,     1/2]"
      ],
      "execution_count": 42,
      "outputs": []
    },
    {
      "cell_type": "code",
      "metadata": {
        "colab": {
          "base_uri": "https://localhost:8080/"
        },
        "id": "UZJGDUuaXSJ6",
        "outputId": "8ef7ba0c-3a2b-4976-f22a-a87b78d772c6"
      },
      "source": [
        "x.shape"
      ],
      "execution_count": 43,
      "outputs": [
        {
          "output_type": "execute_result",
          "data": {
            "text/plain": [
              "(25, 25)"
            ]
          },
          "metadata": {
            "tags": []
          },
          "execution_count": 43
        }
      ]
    },
    {
      "cell_type": "markdown",
      "metadata": {
        "id": "O0p6RzQ8ahIK"
      },
      "source": [
        "Вознаграждения "
      ]
    },
    {
      "cell_type": "code",
      "metadata": {
        "id": "ivGdDqltIpXJ"
      },
      "source": [
        "y = np.array([\r\n",
        "    1/2, -10, 1/4, -5, 1/2, \r\n",
        "    1/4,   0,   0,  0, 1/4,\r\n",
        "    1/4,   0,   0,  0, 1/4,\r\n",
        "    1/4,   0,   0,  0, 1/4,\r\n",
        "    1/2, 1/4, 1/4,1/4, 1/2\r\n",
        "])"
      ],
      "execution_count": 44,
      "outputs": []
    },
    {
      "cell_type": "code",
      "metadata": {
        "colab": {
          "base_uri": "https://localhost:8080/"
        },
        "id": "im_dUpnJXRBN",
        "outputId": "9b55e62a-cdb0-429f-8844-d30268788d30"
      },
      "source": [
        "y.shape"
      ],
      "execution_count": 45,
      "outputs": [
        {
          "output_type": "execute_result",
          "data": {
            "text/plain": [
              "(25,)"
            ]
          },
          "metadata": {
            "tags": []
          },
          "execution_count": 45
        }
      ]
    },
    {
      "cell_type": "code",
      "metadata": {
        "id": "40314uLxLlrV"
      },
      "source": [
        "gamma = 0.9"
      ],
      "execution_count": 46,
      "outputs": []
    },
    {
      "cell_type": "code",
      "metadata": {
        "id": "MxiuVHWoYbwN"
      },
      "source": [
        "X = x*gamma - np.diag(np.ones(25))"
      ],
      "execution_count": 47,
      "outputs": []
    },
    {
      "cell_type": "code",
      "metadata": {
        "colab": {
          "base_uri": "https://localhost:8080/"
        },
        "id": "Jkf2joV-LjK5",
        "outputId": "f85f059f-f99c-4a18-d7cd-6a86377cbac3"
      },
      "source": [
        "np.linalg.solve(X, y)"
      ],
      "execution_count": 48,
      "outputs": [
        {
          "output_type": "execute_result",
          "data": {
            "text/plain": [
              "array([ 3.30899634,  8.78929186,  4.42761918,  5.32236759,  1.49217876,\n",
              "        1.52158807,  2.99231786,  2.25013995,  1.9075717 ,  0.54740271,\n",
              "        0.05082249,  0.73817059,  0.67311326,  0.35818621, -0.40314114,\n",
              "       -0.9735923 , -0.43549543, -0.35488227, -0.58560509, -1.18307508,\n",
              "       -1.85770055, -1.34523126, -1.22926726, -1.42291815, -1.97517905])"
            ]
          },
          "metadata": {
            "tags": []
          },
          "execution_count": 48
        }
      ]
    },
    {
      "cell_type": "code",
      "metadata": {
        "id": "tbD2LeKfMV-n"
      },
      "source": [
        ""
      ],
      "execution_count": null,
      "outputs": []
    }
  ]
}